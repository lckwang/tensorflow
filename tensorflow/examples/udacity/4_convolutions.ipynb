{
 "cells": [
  {
   "cell_type": "markdown",
   "metadata": {
    "colab_type": "text",
    "id": "4embtkV0pNxM"
   },
   "source": [
    "Deep Learning\n",
    "=============\n",
    "\n",
    "Assignment 4\n",
    "------------\n",
    "\n",
    "Previously in `2_fullyconnected.ipynb` and `3_regularization.ipynb`, we trained fully connected networks to classify [notMNIST](http://yaroslavvb.blogspot.com/2011/09/notmnist-dataset.html) characters.\n",
    "\n",
    "The goal of this assignment is make the neural network convolutional."
   ]
  },
  {
   "cell_type": "code",
   "execution_count": 1,
   "metadata": {
    "cellView": "both",
    "colab": {
     "autoexec": {
      "startup": false,
      "wait_interval": 0
     }
    },
    "colab_type": "code",
    "collapsed": true,
    "id": "tm2CQN_Cpwj0"
   },
   "outputs": [],
   "source": [
    "# These are all the modules we'll be using later. Make sure you can import them\n",
    "# before proceeding further.\n",
    "from __future__ import print_function\n",
    "import numpy as np\n",
    "import tensorflow as tf\n",
    "from six.moves import cPickle as pickle\n",
    "from six.moves import range\n",
    "import time"
   ]
  },
  {
   "cell_type": "code",
   "execution_count": 2,
   "metadata": {
    "cellView": "both",
    "colab": {
     "autoexec": {
      "startup": false,
      "wait_interval": 0
     },
     "output_extras": [
      {
       "item_id": 1
      }
     ]
    },
    "colab_type": "code",
    "collapsed": false,
    "executionInfo": {
     "elapsed": 11948,
     "status": "ok",
     "timestamp": 1446658914837,
     "user": {
      "color": "",
      "displayName": "",
      "isAnonymous": false,
      "isMe": true,
      "permissionId": "",
      "photoUrl": "",
      "sessionId": "0",
      "userId": ""
     },
     "user_tz": 480
    },
    "id": "y3-cj1bpmuxc",
    "outputId": "016b1a51-0290-4b08-efdb-8c95ffc3cd01"
   },
   "outputs": [
    {
     "name": "stdout",
     "output_type": "stream",
     "text": [
      "Training set:\t (400000, 28, 28) (400000,)\n",
      "Validation set:\t (15000, 28, 28) (15000,)\n",
      "Test set:\t (18000, 28, 28) (18000,)\n"
     ]
    }
   ],
   "source": [
    "pickle_file = 'notMNIST.pickle'\n",
    "\n",
    "with open(pickle_file, 'rb') as f:\n",
    "  save = pickle.load(f)\n",
    "  train_dataset = save['train_dataset']\n",
    "  train_labels = save['train_labels']\n",
    "  valid_dataset = save['valid_dataset']\n",
    "  valid_labels = save['valid_labels']\n",
    "  test_dataset = save['test_dataset']\n",
    "  test_labels = save['test_labels']\n",
    "  del save  # hint to help gc free up memory\n",
    "  print('Training set:\\t', train_dataset.shape, train_labels.shape)\n",
    "  print('Validation set:\\t', valid_dataset.shape, valid_labels.shape)\n",
    "  print('Test set:\\t', test_dataset.shape, test_labels.shape)"
   ]
  },
  {
   "cell_type": "markdown",
   "metadata": {
    "colab_type": "text",
    "id": "L7aHrm6nGDMB"
   },
   "source": [
    "Reformat into a TensorFlow-friendly shape:\n",
    "- convolutions need the image data formatted as a cube (width by height by #channels)\n",
    "- labels as float 1-hot encodings."
   ]
  },
  {
   "cell_type": "code",
   "execution_count": 3,
   "metadata": {
    "cellView": "both",
    "colab": {
     "autoexec": {
      "startup": false,
      "wait_interval": 0
     },
     "output_extras": [
      {
       "item_id": 1
      }
     ]
    },
    "colab_type": "code",
    "collapsed": false,
    "executionInfo": {
     "elapsed": 11952,
     "status": "ok",
     "timestamp": 1446658914857,
     "user": {
      "color": "",
      "displayName": "",
      "isAnonymous": false,
      "isMe": true,
      "permissionId": "",
      "photoUrl": "",
      "sessionId": "0",
      "userId": ""
     },
     "user_tz": 480
    },
    "id": "IRSyYiIIGIzS",
    "outputId": "650a208c-8359-4852-f4f5-8bf10e80ef6c"
   },
   "outputs": [
    {
     "name": "stdout",
     "output_type": "stream",
     "text": [
      "Training set:\t (400000, 28, 28, 1) (400000, 10)\n",
      "Validation set:\t (15000, 28, 28, 1) (15000, 10)\n",
      "Test set:\t (18000, 28, 28, 1) (18000, 10)\n"
     ]
    }
   ],
   "source": [
    "image_size = 28\n",
    "num_labels = 10\n",
    "num_channels = 1 # grayscale\n",
    "\n",
    "import numpy as np\n",
    "\n",
    "def reformat(dataset, labels):\n",
    "  dataset = dataset.reshape(\n",
    "    (-1, image_size, image_size, num_channels)).astype(np.float32)\n",
    "  labels = (np.arange(num_labels) == labels[:,None]).astype(np.float32)\n",
    "  return dataset, labels\n",
    "train_dataset, train_labels = reformat(train_dataset, train_labels)\n",
    "valid_dataset, valid_labels = reformat(valid_dataset, valid_labels)\n",
    "test_dataset, test_labels = reformat(test_dataset, test_labels)\n",
    "print('Training set:\\t', train_dataset.shape, train_labels.shape)\n",
    "print('Validation set:\\t', valid_dataset.shape, valid_labels.shape)\n",
    "print('Test set:\\t', test_dataset.shape, test_labels.shape)"
   ]
  },
  {
   "cell_type": "code",
   "execution_count": 4,
   "metadata": {
    "cellView": "both",
    "colab": {
     "autoexec": {
      "startup": false,
      "wait_interval": 0
     }
    },
    "colab_type": "code",
    "collapsed": true,
    "id": "AgQDIREv02p1"
   },
   "outputs": [],
   "source": [
    "def accuracy(predictions, labels):\n",
    "  #np.argmax() returns the indices of the maximum values along an axis (axis value starts at 0).\n",
    "  return (100.0 * np.sum(np.argmax(predictions, 1) == np.argmax(labels, 1))\n",
    "          / predictions.shape[0])"
   ]
  },
  {
   "cell_type": "markdown",
   "metadata": {
    "colab_type": "text",
    "id": "5rhgjmROXu2O"
   },
   "source": [
    "Let's build a small network with two convolutional layers, followed by one fully connected layer. Convolutional networks are more expensive computationally, so we'll limit its depth and number of fully connected nodes.\n",
    "\n",
    "The code below constructs two convolutional netowrk layers, and one fully connected network layer, and one output layer. Each of the hidden layers is followed by a RELU layer."
   ]
  },
  {
   "cell_type": "code",
   "execution_count": 5,
   "metadata": {
    "cellView": "both",
    "colab": {
     "autoexec": {
      "startup": false,
      "wait_interval": 0
     }
    },
    "colab_type": "code",
    "collapsed": false,
    "id": "IZYv70SvvOan"
   },
   "outputs": [],
   "source": [
    "batch_size = 16\n",
    "patch_size = 5   # Convolutional network patch size.\n",
    "depth = 16       # Convolutional network output depth.\n",
    "num_hidden = 64  # Fully connectly hidden layer size. \n",
    "\n",
    "graph = tf.Graph()\n",
    "\n",
    "with graph.as_default():\n",
    "\n",
    "  # Input data.\n",
    "  tf_train_dataset = tf.placeholder(\n",
    "    tf.float32, shape=(batch_size, image_size, image_size, num_channels))\n",
    "  tf_train_labels = tf.placeholder(tf.float32, shape=(batch_size, num_labels))\n",
    "  tf_valid_dataset = tf.constant(valid_dataset)\n",
    "  tf_test_dataset = tf.constant(test_dataset)\n",
    "  \n",
    "  # Variables.\n",
    "  layer1_weights = tf.Variable(tf.truncated_normal(\n",
    "      [patch_size, patch_size, num_channels, depth], stddev=0.1))\n",
    "  layer1_biases = tf.Variable(tf.zeros([depth]))\n",
    "  layer2_weights = tf.Variable(tf.truncated_normal(\n",
    "      [patch_size, patch_size, depth, depth], stddev=0.1))\n",
    "  layer2_biases = tf.Variable(tf.constant(1.0, shape=[depth]))\n",
    "  layer3_weights = tf.Variable(tf.truncated_normal(\n",
    "      [image_size // 4 * image_size // 4 * depth, num_hidden], stddev=0.1))\n",
    "  layer3_biases = tf.Variable(tf.constant(1.0, shape=[num_hidden]))\n",
    "  layer4_weights = tf.Variable(tf.truncated_normal(\n",
    "      [num_hidden, num_labels], stddev=0.1))\n",
    "  layer4_biases = tf.Variable(tf.constant(1.0, shape=[num_labels]))\n",
    "  \n",
    "  # Model.\n",
    "  def model(data):\n",
    "    conv = tf.nn.conv2d(data, layer1_weights, [1, 2, 2, 1], padding='SAME')\n",
    "    hidden = tf.nn.relu(conv + layer1_biases)\n",
    "    conv = tf.nn.conv2d(hidden, layer2_weights, [1, 2, 2, 1], padding='SAME')\n",
    "    hidden = tf.nn.relu(conv + layer2_biases)\n",
    "    shape = hidden.get_shape().as_list()\n",
    "    reshape = tf.reshape(hidden, [shape[0], shape[1] * shape[2] * shape[3]])\n",
    "    hidden = tf.nn.relu(tf.matmul(reshape, layer3_weights) + layer3_biases)\n",
    "    return tf.matmul(hidden, layer4_weights) + layer4_biases\n",
    "  \n",
    "  # Training computation.\n",
    "  logits = model(tf_train_dataset)\n",
    "  loss = tf.reduce_mean(\n",
    "    tf.nn.softmax_cross_entropy_with_logits(logits, tf_train_labels))\n",
    "    \n",
    "  # Optimizer.\n",
    "  optimizer = tf.train.GradientDescentOptimizer(0.05).minimize(loss)\n",
    "  \n",
    "  # Predictions for the training, validation, and test data.\n",
    "  train_prediction = tf.nn.softmax(logits)\n",
    "  valid_prediction = tf.nn.softmax(model(tf_valid_dataset)) # model() is an internal function defined above.\n",
    "  test_prediction = tf.nn.softmax(model(tf_test_dataset))"
   ]
  },
  {
   "cell_type": "code",
   "execution_count": 6,
   "metadata": {
    "cellView": "both",
    "colab": {
     "autoexec": {
      "startup": false,
      "wait_interval": 0
     },
     "output_extras": [
      {
       "item_id": 37
      }
     ]
    },
    "colab_type": "code",
    "collapsed": false,
    "executionInfo": {
     "elapsed": 63292,
     "status": "ok",
     "timestamp": 1446658966251,
     "user": {
      "color": "",
      "displayName": "",
      "isAnonymous": false,
      "isMe": true,
      "permissionId": "",
      "photoUrl": "",
      "sessionId": "0",
      "userId": ""
     },
     "user_tz": 480
    },
    "id": "noKFb2UovVFR",
    "outputId": "28941338-2ef9-4088-8bd1-44295661e628"
   },
   "outputs": [
    {
     "name": "stdout",
     "output_type": "stream",
     "text": [
      "Initialized\n",
      "Minibatch loss at step 0: 3.287610\n",
      "Minibatch accuracy: 6.2%\n",
      "Validation accuracy: 10.0%\n",
      "Minibatch loss at step 100: 1.811163\n",
      "Minibatch accuracy: 50.0%\n",
      "Validation accuracy: 72.9%\n",
      "Minibatch loss at step 200: 0.826625\n",
      "Minibatch accuracy: 75.0%\n",
      "Validation accuracy: 78.1%\n",
      "Minibatch loss at step 300: 0.176615\n",
      "Minibatch accuracy: 93.8%\n",
      "Validation accuracy: 78.5%\n",
      "Minibatch loss at step 400: 0.975691\n",
      "Minibatch accuracy: 75.0%\n",
      "Validation accuracy: 80.3%\n",
      "Minibatch loss at step 500: 0.891770\n",
      "Minibatch accuracy: 62.5%\n",
      "Validation accuracy: 81.6%\n",
      "Minibatch loss at step 600: 1.051130\n",
      "Minibatch accuracy: 75.0%\n",
      "Validation accuracy: 81.0%\n",
      "Minibatch loss at step 700: 0.209371\n",
      "Minibatch accuracy: 93.8%\n",
      "Validation accuracy: 81.4%\n",
      "Minibatch loss at step 800: 0.704229\n",
      "Minibatch accuracy: 81.2%\n",
      "Validation accuracy: 82.2%\n",
      "Minibatch loss at step 900: 0.382092\n",
      "Minibatch accuracy: 93.8%\n",
      "Validation accuracy: 82.8%\n",
      "Minibatch loss at step 1000: 0.345307\n",
      "Minibatch accuracy: 87.5%\n",
      "Validation accuracy: 82.6%\n",
      "Test accuracy: 89.2%\n"
     ]
    }
   ],
   "source": [
    "num_steps = 1001\n",
    "\n",
    "with tf.Session(graph=graph) as session:\n",
    "  tf.initialize_all_variables().run()\n",
    "  print('Initialized')\n",
    "  for step in range(num_steps):\n",
    "    offset = (step * batch_size) % (train_labels.shape[0] - batch_size)\n",
    "    batch_data = train_dataset[offset:(offset + batch_size), :, :, :]\n",
    "    batch_labels = train_labels[offset:(offset + batch_size), :]\n",
    "    feed_dict = {tf_train_dataset : batch_data, tf_train_labels : batch_labels}\n",
    "    _, l, predictions = session.run(\n",
    "      [optimizer, loss, train_prediction], feed_dict=feed_dict)\n",
    "    if (step % 100 == 0):\n",
    "      print('Minibatch loss at step %d: %f' % (step, l))\n",
    "      print('Minibatch accuracy: %.1f%%' % accuracy(predictions, batch_labels))\n",
    "      print('Validation accuracy: %.1f%%' % accuracy(\n",
    "        valid_prediction.eval(), valid_labels))\n",
    "  print('Test accuracy: %.1f%%' % accuracy(test_prediction.eval(), test_labels))"
   ]
  },
  {
   "cell_type": "markdown",
   "metadata": {
    "colab_type": "text",
    "id": "KedKkn4EutIK"
   },
   "source": [
    "---\n",
    "Problem 1\n",
    "---------\n",
    "\n",
    "The convolutional model above uses convolutions with stride 2 to reduce the dimensionality. Replace the strides by a max pooling operation (`nn.max_pool()`) of stride 2 and kernel size 2.\n",
    "\n",
    "---"
   ]
  },
  {
   "cell_type": "code",
   "execution_count": 7,
   "metadata": {
    "collapsed": false
   },
   "outputs": [],
   "source": [
    "batch_size = 32\n",
    "patch_size = 5   # Convolutional network patch size.\n",
    "depth = 16      # Convolutional network output depth.\n",
    "num_hidden = 64  # Fully connectly hidden layer size. \n",
    "\n",
    "graph = tf.Graph()\n",
    "\n",
    "with graph.as_default():\n",
    "\n",
    "  # Input data.\n",
    "  tf_train_dataset = tf.placeholder(\n",
    "    tf.float32, shape=(batch_size, image_size, image_size, num_channels))\n",
    "  tf_train_labels = tf.placeholder(tf.float32, shape=(batch_size, num_labels))\n",
    "  tf_valid_dataset = tf.constant(valid_dataset)\n",
    "  tf_test_dataset = tf.constant(test_dataset)\n",
    "  \n",
    "  # Variables.\n",
    "  layer1_weights = tf.Variable(tf.truncated_normal(\n",
    "      [patch_size, patch_size, num_channels, depth], stddev=0.1))\n",
    "  layer1_biases = tf.Variable(tf.zeros([depth]))\n",
    "  layer2_weights = tf.Variable(tf.truncated_normal(\n",
    "      [patch_size, patch_size, depth, depth], stddev=0.1))\n",
    "  layer2_biases = tf.Variable(tf.constant(1.0, shape=[depth]))\n",
    "  layer3_weights = tf.Variable(tf.truncated_normal(\n",
    "      [image_size // 4 * image_size // 4 * depth, num_hidden], stddev=0.1))\n",
    "  layer3_biases = tf.Variable(tf.constant(1.0, shape=[num_hidden]))\n",
    "  layer4_weights = tf.Variable(tf.truncated_normal(\n",
    "      [num_hidden, num_labels], stddev=0.1))\n",
    "  layer4_biases = tf.Variable(tf.constant(1.0, shape=[num_labels]))\n",
    "  \n",
    "  # Model.\n",
    "  def model(data):\n",
    "    conv = tf.nn.conv2d(data, layer1_weights, [1, 1, 1, 1], padding='SAME')\n",
    "    hidden = tf.nn.relu(conv + layer1_biases)\n",
    "    pool = tf.nn.max_pool(hidden, [1, 2, 2, 1], [1, 2, 2, 1], padding='SAME')\n",
    "    conv = tf.nn.conv2d(pool, layer2_weights, [1, 1, 1, 1], padding='SAME')\n",
    "    hidden = tf.nn.relu(conv + layer2_biases)\n",
    "    pool = tf.nn.max_pool(hidden, [1, 2, 2, 1], [1, 2, 2, 1], padding='SAME')\n",
    "    shape = pool.get_shape().as_list()\n",
    "    reshape = tf.reshape(pool, [shape[0], shape[1] * shape[2] * shape[3]])\n",
    "    hidden = tf.nn.relu(tf.matmul(reshape, layer3_weights) + layer3_biases)\n",
    "    return tf.matmul(hidden, layer4_weights) + layer4_biases\n",
    "  \n",
    "  # Training computation.\n",
    "  logits = model(tf_train_dataset)\n",
    "  loss = tf.reduce_mean(\n",
    "    tf.nn.softmax_cross_entropy_with_logits(logits, tf_train_labels))\n",
    "    \n",
    "  # Optimizer.\n",
    "  optimizer = tf.train.GradientDescentOptimizer(0.05).minimize(loss)\n",
    "  \n",
    "  # Predictions for the training, validation, and test data.\n",
    "  train_prediction = tf.nn.softmax(logits)\n",
    "  valid_prediction = tf.nn.softmax(model(tf_valid_dataset)) # model() is an onternal function defined above.\n",
    "  test_prediction = tf.nn.softmax(model(tf_test_dataset))"
   ]
  },
  {
   "cell_type": "code",
   "execution_count": 8,
   "metadata": {
    "collapsed": false,
    "scrolled": true
   },
   "outputs": [
    {
     "name": "stdout",
     "output_type": "stream",
     "text": [
      "Initialized\n",
      "Minibatch loss at step 0: 4.763687\n",
      "Minibatch accuracy: 6.2%\n",
      "Validation accuracy: 10.0%.   Time elapsed:1.9\n",
      "Minibatch loss at step 500: 0.734541\n",
      "Minibatch accuracy: 81.2%\n",
      "Validation accuracy: 82.7%.   Time elapsed:9.7\n",
      "Minibatch loss at step 1000: 0.415032\n",
      "Minibatch accuracy: 87.5%\n",
      "Validation accuracy: 84.5%.   Time elapsed:17.5\n",
      "Minibatch loss at step 1500: 0.631829\n",
      "Minibatch accuracy: 78.1%\n",
      "Validation accuracy: 86.2%.   Time elapsed:25.2\n",
      "Minibatch loss at step 2000: 0.258624\n",
      "Minibatch accuracy: 90.6%\n",
      "Validation accuracy: 86.8%.   Time elapsed:32.9\n",
      "Minibatch loss at step 2500: 0.522479\n",
      "Minibatch accuracy: 84.4%\n",
      "Validation accuracy: 87.9%.   Time elapsed:40.7\n",
      "Minibatch loss at step 3000: 0.387590\n",
      "Minibatch accuracy: 93.8%\n",
      "Validation accuracy: 87.8%.   Time elapsed:48.4\n",
      "Minibatch loss at step 3500: 0.299874\n",
      "Minibatch accuracy: 90.6%\n",
      "Validation accuracy: 88.4%.   Time elapsed:56.1\n",
      "Minibatch loss at step 4000: 0.501531\n",
      "Minibatch accuracy: 81.2%\n",
      "Validation accuracy: 88.4%.   Time elapsed:63.9\n",
      "Minibatch loss at step 4500: 0.236411\n",
      "Minibatch accuracy: 93.8%\n",
      "Validation accuracy: 88.6%.   Time elapsed:71.6\n",
      "Minibatch loss at step 5000: 0.214768\n",
      "Minibatch accuracy: 93.8%\n",
      "Validation accuracy: 89.1%.   Time elapsed:79.3\n",
      "Minibatch loss at step 5500: 0.625356\n",
      "Minibatch accuracy: 84.4%\n",
      "Validation accuracy: 88.9%.   Time elapsed:87.1\n",
      "Minibatch loss at step 6000: 0.160591\n",
      "Minibatch accuracy: 96.9%\n",
      "Validation accuracy: 89.1%.   Time elapsed:94.9\n",
      "Minibatch loss at step 6500: 0.143579\n",
      "Minibatch accuracy: 93.8%\n",
      "Validation accuracy: 89.1%.   Time elapsed:102.6\n",
      "Minibatch loss at step 7000: 0.389688\n",
      "Minibatch accuracy: 84.4%\n",
      "Validation accuracy: 89.5%.   Time elapsed:110.5\n",
      "Minibatch loss at step 7500: 0.280696\n",
      "Minibatch accuracy: 90.6%\n",
      "Validation accuracy: 89.7%.   Time elapsed:118.5\n",
      "Minibatch loss at step 8000: 0.490157\n",
      "Minibatch accuracy: 78.1%\n",
      "Validation accuracy: 89.5%.   Time elapsed:126.5\n",
      "Minibatch loss at step 8500: 0.310051\n",
      "Minibatch accuracy: 87.5%\n",
      "Validation accuracy: 89.9%.   Time elapsed:134.5\n",
      "Minibatch loss at step 9000: 0.311755\n",
      "Minibatch accuracy: 87.5%\n",
      "Validation accuracy: 90.0%.   Time elapsed:142.6\n",
      "Minibatch loss at step 9500: 0.415397\n",
      "Minibatch accuracy: 84.4%\n",
      "Validation accuracy: 90.1%.   Time elapsed:150.5\n",
      "Minibatch loss at step 10000: 0.169873\n",
      "Minibatch accuracy: 93.8%\n",
      "Validation accuracy: 90.2%.   Time elapsed:158.4\n",
      "Test accuracy: 95.4%\n",
      "\n",
      "Time it takes to run the graph with 10001: 160.58108735084534\n"
     ]
    }
   ],
   "source": [
    "num_steps = 10001\n",
    "start_time = time.time()\n",
    "with tf.Session(graph=graph) as session:\n",
    "  tf.initialize_all_variables().run()\n",
    "  print('Initialized')\n",
    "  for step in range(num_steps):\n",
    "    offset = (step * batch_size) % (train_labels.shape[0] - batch_size)\n",
    "    batch_data = train_dataset[offset:(offset + batch_size), :, :, :]\n",
    "    batch_labels = train_labels[offset:(offset + batch_size), :]\n",
    "    feed_dict = {tf_train_dataset : batch_data, tf_train_labels : batch_labels}\n",
    "    _, l, predictions = session.run(\n",
    "      [optimizer, loss, train_prediction], feed_dict=feed_dict)\n",
    "    if (step % 500 == 0):\n",
    "      print('Minibatch loss at step %d: %f' % (step, l))\n",
    "      print('Minibatch accuracy: %.1f%%' % accuracy(predictions, batch_labels))\n",
    "      print('Validation accuracy: %.1f%%.   Time elapsed:%.1f' % (accuracy(\n",
    "        valid_prediction.eval(), valid_labels), time.time()-start_time))\n",
    "  print('Test accuracy: %.1f%%' % accuracy(test_prediction.eval(), test_labels))\n",
    "print(\"\\nTime it takes to run the graph with %d:\" % num_steps, time.time()-start_time)"
   ]
  },
  {
   "cell_type": "markdown",
   "metadata": {
    "colab_type": "text",
    "id": "klf21gpbAgb-"
   },
   "source": [
    "---\n",
    "Problem 2\n",
    "---------\n",
    "\n",
    "Try to get the best performance you can using a convolutional net. Look for example at the classic [LeNet5](http://yann.lecun.com/exdb/lenet/) architecture, adding Dropout, and/or adding learning rate decay.\n",
    "\n",
    "---"
   ]
  },
  {
   "cell_type": "code",
   "execution_count": 12,
   "metadata": {
    "collapsed": true
   },
   "outputs": [],
   "source": [
    "batch_size = 32\n",
    "patch_size = 5   # Convolutional network patch size.\n",
    "depth = 16      # Convolutional network output depth.\n",
    "num_hidden = 64  # Fully connectly hidden layer size. \n",
    "\n",
    "graph2 = tf.Graph()\n",
    "\n",
    "with graph2.as_default():\n",
    "\n",
    "  # Input data.\n",
    "  tf_train_dataset = tf.placeholder(\n",
    "    tf.float32, shape=(batch_size, image_size, image_size, num_channels))\n",
    "  tf_train_labels = tf.placeholder(tf.float32, shape=(batch_size, num_labels))\n",
    "  tf_valid_dataset = tf.constant(valid_dataset)\n",
    "  tf_test_dataset = tf.constant(test_dataset)\n",
    "  \n",
    "  # Variables.\n",
    "  layer1_weights = tf.Variable(tf.truncated_normal(\n",
    "      [patch_size, patch_size, num_channels, depth], stddev=0.1))\n",
    "  layer1_biases = tf.Variable(tf.zeros([depth]))\n",
    "  layer2_weights = tf.Variable(tf.truncated_normal(\n",
    "      [patch_size, patch_size, depth, depth], stddev=0.1))\n",
    "  layer2_biases = tf.Variable(tf.constant(1.0, shape=[depth]))\n",
    "  layer3_weights = tf.Variable(tf.truncated_normal(\n",
    "      [image_size // 4 * image_size // 4 * depth, num_hidden], stddev=0.1))\n",
    "  layer3_biases = tf.Variable(tf.constant(1.0, shape=[num_hidden]))\n",
    "  layer4_weights = tf.Variable(tf.truncated_normal(\n",
    "      [num_hidden, num_labels], stddev=0.1))\n",
    "  layer4_biases = tf.Variable(tf.constant(1.0, shape=[num_labels]))\n",
    "  \n",
    "  # Model.\n",
    "  def model(data):\n",
    "    conv = tf.nn.conv2d(data, layer1_weights, [1, 1, 1, 1], padding='SAME')\n",
    "    hidden = tf.nn.relu(tf.nn.dropout(conv + layer1_biases, keep_prob))\n",
    "    pool = tf.nn.max_pool(hidden, [1, 2, 2, 1], [1, 2, 2, 1], padding='SAME')\n",
    "    conv = tf.nn.conv2d(pool, layer2_weights, [1, 1, 1, 1], padding='SAME')\n",
    "    hidden = tf.nn.relu(tf.nn.dropout(conv + layer2_biases, keep_prob))\n",
    "    pool = tf.nn.max_pool(hidden, [1, 2, 2, 1], [1, 2, 2, 1], padding='SAME')\n",
    "    shape = pool.get_shape().as_list()\n",
    "    reshape = tf.reshape(pool, [shape[0], shape[1] * shape[2] * shape[3]])\n",
    "    hidden = tf.nn.relu(tf.nn.dropout(tf.matmul(reshape, layer3_weights) + layer3_biases, keep_prob))\n",
    "    return tf.matmul(hidden, layer4_weights) + layer4_biases\n",
    "  \n",
    "  # Training computation.\n",
    "  logits = model(tf_train_dataset)\n",
    "  loss = tf.reduce_mean(\n",
    "    tf.nn.softmax_cross_entropy_with_logits(logits, tf_train_labels))\n",
    "    \n",
    "  # Optimizer.\n",
    "  global_step = tf.Variable(0)  # count the number of steps taken.\n",
    "  learning_rate = tf.train.exponential_decay(0.2, global_step, 200, 0.95, staircase=True, name=\"Learn_rate_decay\")\n",
    "  optimizer = tf.train.GradientDescentOptimizer(learning_rate).minimize(loss, global_step=global_step)\n",
    "#  optimizer = tf.train.GradientDescentOptimizer(0.05).minimize(loss)\n",
    "  \n",
    "  # Predictions for the training, validation, and test data.\n",
    "  train_prediction = tf.nn.softmax(logits)\n",
    "  valid_prediction = tf.nn.softmax(model(tf_valid_dataset)) # model() is an onternal function defined above.\n",
    "  test_prediction = tf.nn.softmax(model(tf_test_dataset))"
   ]
  },
  {
   "cell_type": "code",
   "execution_count": 13,
   "metadata": {
    "collapsed": false
   },
   "outputs": [
    {
     "name": "stdout",
     "output_type": "stream",
     "text": [
      "Initialized\n",
      "Minibatch loss at step 1: 3.044292\n",
      "Minibatch accuracy: 3.1%\n",
      "Validation accuracy: 10.0%.   Time elapsed:1.9\n",
      "Minibatch loss at step 501: 0.661945\n",
      "Minibatch accuracy: 81.2%\n",
      "Validation accuracy: 85.5%.   Time elapsed:9.8\n",
      "Minibatch loss at step 1001: 0.303825\n",
      "Minibatch accuracy: 90.6%\n",
      "Validation accuracy: 86.8%.   Time elapsed:17.5\n",
      "Minibatch loss at step 1501: 0.616289\n",
      "Minibatch accuracy: 81.2%\n",
      "Validation accuracy: 86.7%.   Time elapsed:25.4\n",
      "Minibatch loss at step 2001: 0.239876\n",
      "Minibatch accuracy: 90.6%\n",
      "Validation accuracy: 88.3%.   Time elapsed:33.3\n",
      "Minibatch loss at step 2501: 0.370436\n",
      "Minibatch accuracy: 90.6%\n",
      "Validation accuracy: 88.7%.   Time elapsed:41.1\n",
      "Minibatch loss at step 3001: 0.400720\n",
      "Minibatch accuracy: 93.8%\n",
      "Validation accuracy: 89.1%.   Time elapsed:48.8\n",
      "Minibatch loss at step 3501: 0.248917\n",
      "Minibatch accuracy: 87.5%\n",
      "Validation accuracy: 89.4%.   Time elapsed:56.6\n",
      "Minibatch loss at step 4001: 0.437089\n",
      "Minibatch accuracy: 87.5%\n",
      "Validation accuracy: 89.6%.   Time elapsed:64.3\n",
      "Minibatch loss at step 4501: 0.222009\n",
      "Minibatch accuracy: 90.6%\n",
      "Validation accuracy: 89.4%.   Time elapsed:72.4\n",
      "Minibatch loss at step 5001: 0.197512\n",
      "Minibatch accuracy: 93.8%\n",
      "Validation accuracy: 89.9%.   Time elapsed:80.3\n",
      "Minibatch loss at step 5501: 0.535026\n",
      "Minibatch accuracy: 84.4%\n",
      "Validation accuracy: 89.9%.   Time elapsed:88.1\n",
      "Minibatch loss at step 6001: 0.044251\n",
      "Minibatch accuracy: 100.0%\n",
      "Validation accuracy: 90.0%.   Time elapsed:95.9\n",
      "Minibatch loss at step 6501: 0.152159\n",
      "Minibatch accuracy: 96.9%\n",
      "Validation accuracy: 90.1%.   Time elapsed:103.6\n",
      "Minibatch loss at step 7001: 0.300587\n",
      "Minibatch accuracy: 87.5%\n",
      "Validation accuracy: 90.2%.   Time elapsed:111.3\n",
      "Minibatch loss at step 7501: 0.196269\n",
      "Minibatch accuracy: 90.6%\n",
      "Validation accuracy: 90.3%.   Time elapsed:119.2\n",
      "Minibatch loss at step 8001: 0.464425\n",
      "Minibatch accuracy: 84.4%\n",
      "Validation accuracy: 90.3%.   Time elapsed:126.9\n",
      "Minibatch loss at step 8501: 0.305342\n",
      "Minibatch accuracy: 90.6%\n",
      "Validation accuracy: 90.4%.   Time elapsed:134.6\n",
      "Minibatch loss at step 9001: 0.260046\n",
      "Minibatch accuracy: 87.5%\n",
      "Validation accuracy: 90.4%.   Time elapsed:142.5\n",
      "Minibatch loss at step 9501: 0.368945\n",
      "Minibatch accuracy: 90.6%\n",
      "Validation accuracy: 90.5%.   Time elapsed:150.2\n",
      "Minibatch loss at step 10001: 0.089968\n",
      "Minibatch accuracy: 100.0%\n",
      "Validation accuracy: 90.6%.   Time elapsed:158.0\n",
      "Test accuracy: 95.4%\n",
      "\n",
      "Time it takes to run the graph with 10001: 160.1159212589264\n"
     ]
    }
   ],
   "source": [
    "num_steps = 10001\n",
    "start_time = time.time()\n",
    "with tf.Session(graph=graph2) as sess:\n",
    "  tf.initialize_all_variables().run()\n",
    "  print('Initialized')\n",
    "  for step in range(num_steps):\n",
    "    offset = (step * batch_size) % (train_labels.shape[0] - batch_size)\n",
    "    batch_data = train_dataset[offset:(offset + batch_size), :, :, :]\n",
    "    batch_labels = train_labels[offset:(offset + batch_size), :]\n",
    "    feed_dict = {tf_train_dataset : batch_data, tf_train_labels : batch_labels, keep_prob:0.5}\n",
    "    _, l, predictions = sess.run(\n",
    "      [optimizer, loss, train_prediction], feed_dict=feed_dict)\n",
    "    if (step % 500 == 0):\n",
    "      print('Minibatch loss at step %d: %f' % (global_step.eval(), l))\n",
    "      print('Minibatch accuracy: %.1f%%' % accuracy(predictions, batch_labels))\n",
    "      print('Validation accuracy: %.1f%%.   Time elapsed:%.1f' % (accuracy(\n",
    "        valid_prediction.eval(), valid_labels), time.time()-start_time))\n",
    "  print('Test accuracy: %.1f%%' % accuracy(test_prediction.eval(), test_labels))\n",
    "print(\"\\nTime it takes to run the graph with %d:\" % num_steps, time.time()-start_time)"
   ]
  },
  {
   "cell_type": "code",
   "execution_count": null,
   "metadata": {
    "collapsed": true
   },
   "outputs": [],
   "source": []
  }
 ],
 "metadata": {
  "anaconda-cloud": {},
  "colab": {
   "default_view": {},
   "name": "4_convolutions.ipynb",
   "provenance": [],
   "version": "0.3.2",
   "views": {}
  },
  "kernelspec": {
   "display_name": "Python [default]",
   "language": "python",
   "name": "python3"
  },
  "language_info": {
   "codemirror_mode": {
    "name": "ipython",
    "version": 3
   },
   "file_extension": ".py",
   "mimetype": "text/x-python",
   "name": "python",
   "nbconvert_exporter": "python",
   "pygments_lexer": "ipython3",
   "version": "3.5.2"
  }
 },
 "nbformat": 4,
 "nbformat_minor": 0
}
